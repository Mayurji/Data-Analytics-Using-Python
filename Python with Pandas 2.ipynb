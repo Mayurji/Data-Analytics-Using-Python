{
 "cells": [
  {
   "cell_type": "code",
   "execution_count": 212,
   "metadata": {
    "collapsed": false
   },
   "outputs": [
    {
     "name": "stdout",
     "output_type": "stream",
     "text": [
      "                                                CRIM  ZN  INDUS  CHAS  NOX  \\\n",
      "0  0.00632  18.00   2.310  0  0.5380  6.5750  65.... NaN    NaN   NaN  NaN   \n",
      "1  0.02731   0.00   7.070  0  0.4690  6.4210  78.... NaN    NaN   NaN  NaN   \n",
      "2  0.02729   0.00   7.070  0  0.4690  7.1850  61.... NaN    NaN   NaN  NaN   \n",
      "3  0.03237   0.00   2.180  0  0.4580  6.9980  45.... NaN    NaN   NaN  NaN   \n",
      "4  0.06905   0.00   2.180  0  0.4580  7.1470  54.... NaN    NaN   NaN  NaN   \n",
      "\n",
      "   RM  AGE  DIS  RAD  TAX  PTRATIO   B  LSTAT  MEDV  \n",
      "0 NaN  NaN  NaN  NaN  NaN      NaN NaN    NaN   NaN  \n",
      "1 NaN  NaN  NaN  NaN  NaN      NaN NaN    NaN   NaN  \n",
      "2 NaN  NaN  NaN  NaN  NaN      NaN NaN    NaN   NaN  \n",
      "3 NaN  NaN  NaN  NaN  NaN      NaN NaN    NaN   NaN  \n",
      "4 NaN  NaN  NaN  NaN  NaN      NaN NaN    NaN   NaN  \n"
     ]
    }
   ],
   "source": [
    "import pandas as pd\n",
    "housing = pd.read_csv('D:\\housingDetail.txt',sep='\\t',names=['CRIM','ZN','INDUS','CHAS','NOX','RM','AGE','DIS','RAD','TAX','PTRATIO','B','LSTAT','MEDV'],lineterminator='\\r')\n",
    "print(housing.head())"
   ]
  },
  {
   "cell_type": "code",
   "execution_count": null,
   "metadata": {
    "collapsed": true
   },
   "outputs": [],
   "source": []
  }
 ],
 "metadata": {
  "kernelspec": {
   "display_name": "Python 3",
   "language": "python",
   "name": "python3"
  },
  "language_info": {
   "codemirror_mode": {
    "name": "ipython",
    "version": 3
   },
   "file_extension": ".py",
   "mimetype": "text/x-python",
   "name": "python",
   "nbconvert_exporter": "python",
   "pygments_lexer": "ipython3",
   "version": "3.6.0"
  }
 },
 "nbformat": 4,
 "nbformat_minor": 2
}
